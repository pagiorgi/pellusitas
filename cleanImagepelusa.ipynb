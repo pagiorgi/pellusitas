{
  "nbformat": 4,
  "nbformat_minor": 0,
  "metadata": {
    "colab": {
      "provenance": [],
      "authorship_tag": "ABX9TyNCsx2KeAWELB0SLOueuje4",
      "include_colab_link": true
    },
    "kernelspec": {
      "name": "python3",
      "display_name": "Python 3"
    },
    "language_info": {
      "name": "python"
    }
  },
  "cells": [
    {
      "cell_type": "markdown",
      "metadata": {
        "id": "view-in-github",
        "colab_type": "text"
      },
      "source": [
        "<a href=\"https://colab.research.google.com/github/pagiorgi/pellusitas/blob/main/cleanImagepelusa.ipynb\" target=\"_parent\"><img src=\"https://colab.research.google.com/assets/colab-badge.svg\" alt=\"Open In Colab\"/></a>"
      ]
    },
    {
      "cell_type": "markdown",
      "source": [
        "\n",
        "## Clonar el repo\n"
      ],
      "metadata": {
        "id": "oPIDCsAbcrKB"
      }
    },
    {
      "cell_type": "code",
      "execution_count": 1,
      "metadata": {
        "colab": {
          "base_uri": "https://localhost:8080/"
        },
        "id": "UjnXgZ5Cb9LM",
        "outputId": "4503cb3d-c730-4dc8-9cc0-3cb4086e3a3e"
      },
      "outputs": [
        {
          "output_type": "stream",
          "name": "stdout",
          "text": [
            "Cloning into 'pellusitas'...\n",
            "remote: Enumerating objects: 15, done.\u001b[K\n",
            "remote: Counting objects: 100% (15/15), done.\u001b[K\n",
            "remote: Compressing objects: 100% (13/13), done.\u001b[K\n",
            "remote: Total 15 (delta 3), reused 0 (delta 0), pack-reused 0 (from 0)\u001b[K\n",
            "Receiving objects: 100% (15/15), 384.57 KiB | 14.24 MiB/s, done.\n",
            "Resolving deltas: 100% (3/3), done.\n",
            "/content/pellusitas\n"
          ]
        }
      ],
      "source": [
        "!git clone https://github.com/pagiorgi/pellusitas.git\n",
        "%cd pellusitas\n"
      ]
    },
    {
      "cell_type": "markdown",
      "source": [
        "## quitar el fondo"
      ],
      "metadata": {
        "id": "KisLuy4Vc0fZ"
      }
    },
    {
      "cell_type": "code",
      "source": [
        "import argparse\n",
        "import cv2\n",
        "import numpy as np\n",
        "import sys"
      ],
      "metadata": {
        "id": "nY_PR2kZdQS5"
      },
      "execution_count": 2,
      "outputs": []
    },
    {
      "cell_type": "code",
      "source": [
        "def remove_grid_by_color(img_bgr, lower_hsv=(80, 30, 40), upper_hsv=(140, 255, 255)):\n",
        "    \"\"\"Detecta y elimina líneas/grilla de color (azul/cian) usando enmascarado en HSV + inpainting.\n",
        "    Los valores HSV por defecto están pensados para líneas azules/cian en papel blanco; ajusta si es necesario.\n",
        "    Devuelve la imagen reconstruida (BGR) y la máscara usada para inpainting.\n",
        "    \"\"\"\n",
        "    img_hsv = cv2.cvtColor(img_bgr, cv2.COLOR_BGR2HSV)\n",
        "    lower = np.array(lower_hsv, dtype=np.uint8)\n",
        "    upper = np.array(upper_hsv, dtype=np.uint8)\n",
        "    mask = cv2.inRange(img_hsv, lower, upper)\n",
        "\n",
        "    # Refina la máscara: elimina ruido y conecta trazos de línea\n",
        "    k = cv2.getStructuringElement(cv2.MORPH_RECT, (3, 3))\n",
        "    mask = cv2.morphologyEx(mask, cv2.MORPH_CLOSE, k, iterations=2)\n",
        "    mask = cv2.morphologyEx(mask, cv2.MORPH_OPEN, k, iterations=1)\n",
        "\n",
        "    # Aumentar un poco el grosor de la máscara para cubrir mejor las líneas al inpaint\n",
        "    k2 = cv2.getStructuringElement(cv2.MORPH_RECT, (5, 5))\n",
        "    mask = cv2.dilate(mask, k2, iterations=1)\n",
        "\n",
        "    # Inpaint (reconstruye zonas donde estaba la grilla)\n",
        "    inpainted = cv2.inpaint(img_bgr, mask, inpaintRadius=3, flags=cv2.INPAINT_TELEA)\n",
        "    return inpainted, mask\n",
        "\n",
        "\n",
        "def remove_dark_spots(img_bgr, spot_area_threshold=150):\n",
        "    \"\"\"Detecta pequeñas manchas oscuras y las elimina usando inpainting.\n",
        "    spot_area_threshold: área mínima (en pixeles) para que un componente se considere una mancha a eliminar.\n",
        "    \"\"\"\n",
        "    gray = cv2.cvtColor(img_bgr, cv2.COLOR_BGR2GRAY)\n",
        "    # Realizamos un umbral para detectar marcas oscuras\n",
        "    _, th = cv2.threshold(gray, 120, 255, cv2.THRESH_BINARY_INV)\n",
        "\n",
        "    # Limpiar el umbral y obtener contornos de las manchas\n",
        "    kernel = cv2.getStructuringElement(cv2.MORPH_ELLIPSE, (3, 3))\n",
        "    th = cv2.morphologyEx(th, cv2.MORPH_OPEN, kernel, iterations=1)\n",
        "\n",
        "    # Buscar componentes conectados\n",
        "    num_labels, labels, stats, centroids = cv2.connectedComponentsWithStats(th, connectivity=8)\n",
        "    mask = np.zeros_like(gray, dtype=np.uint8)\n",
        "    for i in range(1, num_labels):\n",
        "        area = stats[i, cv2.CC_STAT_AREA]\n",
        "        if area <= spot_area_threshold:\n",
        "            # agrega al mask para inpaint\n",
        "            mask[labels == i] = 255\n",
        "\n",
        "    if mask.sum() == 0:\n",
        "        return img_bgr, mask\n",
        "\n",
        "    # Suaviza la máscara un poco\n",
        "    mask = cv2.dilate(mask, kernel, iterations=1)\n",
        "    clean = cv2.inpaint(img_bgr, mask, inpaintRadius=3, flags=cv2.INPAINT_TELEA)\n",
        "    return clean, mask\n",
        "\n",
        "\n",
        "def enhance_and_denoise(img_bgr):\n",
        "    \"\"\"Aplica filtros de suavizado y contrasta ligeramente la imagen para un aspecto más limpio.\"\"\"\n",
        "    # Denoise / suavizado\n",
        "    den = cv2.bilateralFilter(img_bgr, d=9, sigmaColor=75, sigmaSpace=75)\n",
        "\n",
        "    # Aumentar ligeramente el contraste usando CLAHE en cada canal\n",
        "    lab = cv2.cvtColor(den, cv2.COLOR_BGR2LAB)\n",
        "    l, a, b = cv2.split(lab)\n",
        "    clahe = cv2.createCLAHE(clipLimit=2.0, tileGridSize=(8, 8))\n",
        "    l2 = clahe.apply(l)\n",
        "    lab2 = cv2.merge((l2, a, b))\n",
        "    out = cv2.cvtColor(lab2, cv2.COLOR_LAB2BGR)\n",
        "    return out\n",
        "\n",
        "\n",
        "def make_transparent_background(img_bgr, bg_threshold=240):\n",
        "    \"\"\"Convierte el fondo blanco/casi blanco en transparente generando un canal alpha.\n",
        "    bg_threshold: intensidad mínima para considerar píxel como fondo (0-255)\n",
        "    \"\"\"\n",
        "    gray = cv2.cvtColor(img_bgr, cv2.COLOR_BGR2GRAY)\n",
        "    # Fondo: pixeles con intensidad alta\n",
        "    _, alpha = cv2.threshold(gray, bg_threshold, 255, cv2.THRESH_BINARY)\n",
        "\n",
        "    # Invertir para que alpha=255 sea donde hay contenido\n",
        "    alpha = 255 - alpha\n",
        "\n",
        "    # Suavizar el canal alpha para bordes más agradables\n",
        "    alpha = cv2.GaussianBlur(alpha, (5, 5), 0)\n",
        "\n",
        "    b, g, r = cv2.split(img_bgr)\n",
        "    rgba = cv2.merge((b, g, r, alpha))\n",
        "    return rgba\n",
        "\n",
        "\n",
        "def parse_args():\n",
        "    p = argparse.ArgumentParser(description='Limpiar imagen: quitar fondo cuadriculado y pequeñas imperfecciones')\n",
        "    p.add_argument('--input', '-i', required=True, help='Ruta imagen entrada (ej: /mnt/data/pelusa.jpeg)')\n",
        "    p.add_argument('--out_clean', default='/mnt/data/pelusa_clean.png', help='Ruta imagen limpia salida (png)')\n",
        "    p.add_argument('--out_transparent', default='/mnt/data/pelusa_transparent.png', help='Ruta imagen con fondo transparente (png)')\n",
        "    p.add_argument('--debug_masks', action='store_true', help='Guardar máscaras intermedias para depuración')\n",
        "    return p.parse_args()\n",
        "\n"
      ],
      "metadata": {
        "id": "kWAULgwidXbA"
      },
      "execution_count": 3,
      "outputs": []
    },
    {
      "cell_type": "code",
      "source": [
        "# ==== Parámetros de entrada/salida ====\n",
        "input_path = \"pelusa.jpeg\"\n",
        "out_clean = \"pelusa_clean.png\"\n",
        "out_transparent = \"pelusa_transparent.png\"\n",
        "debug_masks = True"
      ],
      "metadata": {
        "id": "ePsbCsasdkkR"
      },
      "execution_count": 4,
      "outputs": []
    },
    {
      "cell_type": "code",
      "source": [
        "# ==== Proceso ====\n",
        "img = cv2.imread(input_path)\n",
        "if img is None:\n",
        "    raise FileNotFoundError(f\"No se pudo leer la imagen {input_path}\")\n",
        "\n",
        "\n",
        "# Paso 1: eliminar la grilla (líneas azules/cian)\n",
        "inpainted_grid, mask_grid = remove_grid_by_color(img)\n",
        "\n",
        "\n",
        "# Paso 2: eliminar manchas oscuras pequeñas e imperfecciones\n",
        "inpainted_spots, mask_spots = remove_dark_spots(inpainted_grid)\n",
        "\n",
        "\n",
        "# Paso 3: mejora y suavizado final\n",
        "enhanced = enhance_and_denoise(inpainted_spots)\n",
        "\n",
        "\n",
        "# Guardar resultado limpio\n",
        "cv2.imwrite(out_clean, enhanced)\n",
        "print(f\"Guardada imagen limpia en: {out_clean}\")\n",
        "\n",
        "\n",
        "# Paso 4: generar versión con fondo transparente\n",
        "rgba = make_transparent_background(enhanced)\n",
        "cv2.imwrite(out_transparent, rgba)\n",
        "print(f\"Guardada imagen con fondo transparente en: {out_transparent}\")\n",
        "\n",
        "\n",
        "if debug_masks:\n",
        "   cv2.imwrite('/_mask_grid.png', mask_grid)\n",
        "   cv2.imwrite('/_mask_spots.png', mask_spots)\n",
        "   print('Guardadas máscaras de depuración: /_mask_grid.png, /_mask_spots.png')"
      ],
      "metadata": {
        "colab": {
          "base_uri": "https://localhost:8080/"
        },
        "id": "7C_KlyJdePKL",
        "outputId": "738d4be3-a049-4b0f-c051-ddc6d649d4e3"
      },
      "execution_count": 6,
      "outputs": [
        {
          "output_type": "stream",
          "name": "stdout",
          "text": [
            "Guardada imagen limpia en: pelusa_clean.png\n",
            "Guardada imagen con fondo transparente en: pelusa_transparent.png\n",
            "Guardadas máscaras de depuración: /mnt/data/_mask_grid.png, /mnt/data/_mask_spots.png\n"
          ]
        }
      ]
    }
  ]
}